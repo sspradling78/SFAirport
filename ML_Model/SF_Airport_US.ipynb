{
  "cells": [
    {
      "cell_type": "markdown",
      "metadata": {
        "id": "view-in-github",
        "colab_type": "text"
      },
      "source": [
        "<a href=\"https://colab.research.google.com/github/sspradling78/SFAirport/blob/main/ML_Model/SF_Airport_US.ipynb\" target=\"_parent\"><img src=\"https://colab.research.google.com/assets/colab-badge.svg\" alt=\"Open In Colab\"/></a>"
      ]
    },
    {
      "cell_type": "code",
      "execution_count": null,
      "id": "ad573343",
      "metadata": {
        "id": "ad573343",
        "outputId": "0d668a8b-3ddd-408c-dc44-43e77e662059"
      },
      "outputs": [
        {
          "name": "stdout",
          "output_type": "stream",
          "text": [
            "Requirement already satisfied: category_encoders==2.* in c:\\users\\student\\anaconda3\\lib\\site-packages (2.3.0)\n",
            "Requirement already satisfied: patsy>=0.5.1 in c:\\users\\student\\anaconda3\\lib\\site-packages (from category_encoders==2.*) (0.5.1)\n",
            "Requirement already satisfied: statsmodels>=0.9.0 in c:\\users\\student\\anaconda3\\lib\\site-packages (from category_encoders==2.*) (0.12.2)\n",
            "Requirement already satisfied: scipy>=1.0.0 in c:\\users\\student\\anaconda3\\lib\\site-packages (from category_encoders==2.*) (1.6.2)\n",
            "Requirement already satisfied: scikit-learn>=0.20.0 in c:\\users\\student\\anaconda3\\lib\\site-packages (from category_encoders==2.*) (0.24.1)\n",
            "Requirement already satisfied: pandas>=0.21.1 in c:\\users\\student\\anaconda3\\lib\\site-packages (from category_encoders==2.*) (1.2.4)\n",
            "Requirement already satisfied: numpy>=1.14.0 in c:\\users\\student\\anaconda3\\lib\\site-packages (from category_encoders==2.*) (1.20.1)\n",
            "Requirement already satisfied: pytz>=2017.3 in c:\\users\\student\\anaconda3\\lib\\site-packages (from pandas>=0.21.1->category_encoders==2.*) (2021.1)\n",
            "Requirement already satisfied: python-dateutil>=2.7.3 in c:\\users\\student\\anaconda3\\lib\\site-packages (from pandas>=0.21.1->category_encoders==2.*) (2.8.1)\n",
            "Requirement already satisfied: six in c:\\users\\student\\anaconda3\\lib\\site-packages (from patsy>=0.5.1->category_encoders==2.*) (1.15.0)\n",
            "Requirement already satisfied: threadpoolctl>=2.0.0 in c:\\users\\student\\anaconda3\\lib\\site-packages (from scikit-learn>=0.20.0->category_encoders==2.*) (2.1.0)\n",
            "Requirement already satisfied: joblib>=0.11 in c:\\users\\student\\anaconda3\\lib\\site-packages (from scikit-learn>=0.20.0->category_encoders==2.*) (1.0.1)\n",
            "Requirement already satisfied: xgboost in c:\\users\\student\\anaconda3\\lib\\site-packages (1.5.2)\n",
            "Requirement already satisfied: numpy in c:\\users\\student\\anaconda3\\lib\\site-packages (from xgboost) (1.20.1)\n",
            "Requirement already satisfied: scipy in c:\\users\\student\\anaconda3\\lib\\site-packages (from xgboost) (1.6.2)\n"
          ]
        }
      ],
      "source": [
        "!pip install category_encoders==2.*\n",
        "!pip install xgboost\n"
      ]
    },
    {
      "cell_type": "code",
      "execution_count": null,
      "id": "d78d682a",
      "metadata": {
        "id": "d78d682a"
      },
      "outputs": [],
      "source": [
        "import pandas as pd\n",
        "import numpy as np\n",
        "from category_encoders import OneHotEncoder, OrdinalEncoder\n",
        "from sklearn.pipeline import make_pipeline\n",
        "from sklearn.impute import SimpleImputer\n",
        "from sklearn.ensemble import RandomForestClassifier\n",
        "from sklearn.linear_model import LogisticRegression\n",
        "from sklearn.preprocessing import StandardScaler\n",
        "from sklearn.metrics import classification_report, roc_curve, plot_confusion_matrix, plot_roc_curve, roc_auc_score\n",
        "import matplotlib.pyplot as plt\n",
        "\n",
        "# Boosted Models\n",
        "from sklearn.ensemble import GradientBoostingClassifier\n",
        "from xgboost import XGBClassifier \n",
        "\n",
        "# Permutation Importance\n",
        "from sklearn.inspection import permutation_importance "
      ]
    },
    {
      "cell_type": "code",
      "execution_count": null,
      "id": "e1e0b497",
      "metadata": {
        "id": "e1e0b497"
      },
      "outputs": [],
      "source": [
        "def wrangle(filename):\n",
        "    df = pd.read_csv(filename, parse_dates= ['Activity Period'], index_col= 'Activity Period')\n",
        "    \n",
        "    df.drop(columns= ['Unnamed: 0', 'Operating Airline', 'Operating Airline IATA Code',\n",
        "                  'Published Airline', 'Published Airline IATA Code'], inplace= True)\n",
        "    \n",
        "    \n",
        "    return df"
      ]
    },
    {
      "cell_type": "code",
      "execution_count": null,
      "id": "787fad09",
      "metadata": {
        "id": "787fad09",
        "outputId": "b632f4a5-f218-4e6f-c193-f1bfc66999fe"
      },
      "outputs": [
        {
          "data": {
            "text/html": [
              "<div>\n",
              "<style scoped>\n",
              "    .dataframe tbody tr th:only-of-type {\n",
              "        vertical-align: middle;\n",
              "    }\n",
              "\n",
              "    .dataframe tbody tr th {\n",
              "        vertical-align: top;\n",
              "    }\n",
              "\n",
              "    .dataframe thead th {\n",
              "        text-align: right;\n",
              "    }\n",
              "</style>\n",
              "<table border=\"1\" class=\"dataframe\">\n",
              "  <thead>\n",
              "    <tr style=\"text-align: right;\">\n",
              "      <th></th>\n",
              "      <th>GEO Summary</th>\n",
              "      <th>GEO Region</th>\n",
              "      <th>Activity Type Code</th>\n",
              "      <th>Price Category Code</th>\n",
              "      <th>Terminal</th>\n",
              "      <th>Boarding Area</th>\n",
              "      <th>Passenger Count</th>\n",
              "      <th>Year</th>\n",
              "      <th>Month</th>\n",
              "    </tr>\n",
              "    <tr>\n",
              "      <th>Activity Period</th>\n",
              "      <th></th>\n",
              "      <th></th>\n",
              "      <th></th>\n",
              "      <th></th>\n",
              "      <th></th>\n",
              "      <th></th>\n",
              "      <th></th>\n",
              "      <th></th>\n",
              "      <th></th>\n",
              "    </tr>\n",
              "  </thead>\n",
              "  <tbody>\n",
              "    <tr>\n",
              "      <th>2005-07-01</th>\n",
              "      <td>Domestic</td>\n",
              "      <td>US</td>\n",
              "      <td>Deplaned</td>\n",
              "      <td>Low Fare</td>\n",
              "      <td>Terminal 1</td>\n",
              "      <td>B</td>\n",
              "      <td>27271</td>\n",
              "      <td>2005</td>\n",
              "      <td>7</td>\n",
              "    </tr>\n",
              "    <tr>\n",
              "      <th>2005-07-01</th>\n",
              "      <td>Domestic</td>\n",
              "      <td>US</td>\n",
              "      <td>Enplaned</td>\n",
              "      <td>Low Fare</td>\n",
              "      <td>Terminal 1</td>\n",
              "      <td>B</td>\n",
              "      <td>29131</td>\n",
              "      <td>2005</td>\n",
              "      <td>7</td>\n",
              "    </tr>\n",
              "    <tr>\n",
              "      <th>2005-07-01</th>\n",
              "      <td>Domestic</td>\n",
              "      <td>US</td>\n",
              "      <td>Thru / Transit</td>\n",
              "      <td>Low Fare</td>\n",
              "      <td>Terminal 1</td>\n",
              "      <td>B</td>\n",
              "      <td>5415</td>\n",
              "      <td>2005</td>\n",
              "      <td>7</td>\n",
              "    </tr>\n",
              "    <tr>\n",
              "      <th>2005-07-01</th>\n",
              "      <td>Domestic</td>\n",
              "      <td>US</td>\n",
              "      <td>Deplaned</td>\n",
              "      <td>Low Fare</td>\n",
              "      <td>International</td>\n",
              "      <td>A</td>\n",
              "      <td>8055</td>\n",
              "      <td>2005</td>\n",
              "      <td>7</td>\n",
              "    </tr>\n",
              "    <tr>\n",
              "      <th>2005-07-01</th>\n",
              "      <td>Domestic</td>\n",
              "      <td>US</td>\n",
              "      <td>Enplaned</td>\n",
              "      <td>Low Fare</td>\n",
              "      <td>International</td>\n",
              "      <td>A</td>\n",
              "      <td>7984</td>\n",
              "      <td>2005</td>\n",
              "      <td>7</td>\n",
              "    </tr>\n",
              "  </tbody>\n",
              "</table>\n",
              "</div>"
            ],
            "text/plain": [
              "                GEO Summary GEO Region Activity Type Code Price Category Code  \\\n",
              "Activity Period                                                                 \n",
              "2005-07-01         Domestic         US           Deplaned            Low Fare   \n",
              "2005-07-01         Domestic         US           Enplaned            Low Fare   \n",
              "2005-07-01         Domestic         US     Thru / Transit            Low Fare   \n",
              "2005-07-01         Domestic         US           Deplaned            Low Fare   \n",
              "2005-07-01         Domestic         US           Enplaned            Low Fare   \n",
              "\n",
              "                      Terminal Boarding Area  Passenger Count  Year  Month  \n",
              "Activity Period                                                             \n",
              "2005-07-01          Terminal 1             B            27271  2005      7  \n",
              "2005-07-01          Terminal 1             B            29131  2005      7  \n",
              "2005-07-01          Terminal 1             B             5415  2005      7  \n",
              "2005-07-01       International             A             8055  2005      7  \n",
              "2005-07-01       International             A             7984  2005      7  "
            ]
          },
          "execution_count": 4,
          "metadata": {},
          "output_type": "execute_result"
        }
      ],
      "source": [
        "df = wrangle('Air_Traffic_US.csv')\n",
        "df.head()"
      ]
    },
    {
      "cell_type": "code",
      "execution_count": null,
      "id": "842ed863",
      "metadata": {
        "id": "842ed863"
      },
      "outputs": [],
      "source": [
        ""
      ]
    },
    {
      "cell_type": "code",
      "execution_count": null,
      "id": "2a6ffd54",
      "metadata": {
        "id": "2a6ffd54"
      },
      "outputs": [],
      "source": [
        "target = 'Price Category Code'\n",
        "y = df[target]\n",
        "X = df.drop(target, axis= 1)"
      ]
    },
    {
      "cell_type": "code",
      "execution_count": null,
      "id": "c9dec37f",
      "metadata": {
        "id": "c9dec37f",
        "outputId": "335302ba-aec1-4c25-a936-848238ec33e5"
      },
      "outputs": [
        {
          "data": {
            "text/plain": [
              "<AxesSubplot:>"
            ]
          },
          "execution_count": 6,
          "metadata": {},
          "output_type": "execute_result"
        },
        {
          "data": {
            "image/png": "[encoded data removed]",
            "text/plain": [
              "<Figure size 432x288 with 1 Axes>"
            ]
          },
          "metadata": {
            "needs_background": "light"
          },
          "output_type": "display_data"
        }
      ],
      "source": [
        "y.value_counts(normalize= True).plot(kind= 'bar')"
      ]
    },
    {
      "cell_type": "code",
      "execution_count": null,
      "id": "b4cfcce7",
      "metadata": {
        "id": "b4cfcce7"
      },
      "outputs": [],
      "source": [
        "# Training before 2016 & after 2005\n",
        "train_mask = (X.index.year < 2016) & (X.index.year > 2005)\n",
        "X_train, y_train = X.loc[train_mask], y.loc[train_mask]\n",
        "\n",
        "# Validation on 2016 & 2017\n",
        "validation_mask = (X.index.year == 2017) | (X.index.year == 2016)\n",
        "X_val, y_val = X.loc[validation_mask], y.loc[validation_mask]\n",
        "\n",
        "# Testing after 2017, but before 2020\n",
        "test_mask = (X.index.year > 2017) & (X.index.year < 2020)\n",
        "X_test, y_test = X.loc[test_mask], y.loc[test_mask]"
      ]
    },
    {
      "cell_type": "code",
      "execution_count": null,
      "id": "76f4c334",
      "metadata": {
        "id": "76f4c334",
        "outputId": "2a8e005f-d144-47a1-c79e-5f8322a8c511"
      },
      "outputs": [
        {
          "name": "stdout",
          "output_type": "stream",
          "text": [
            "Baseline accuracy: 0.7000556483027268\n"
          ]
        }
      ],
      "source": [
        "baseline_acc = y_train.value_counts(normalize= True).max()\n",
        "print('Baseline accuracy:', baseline_acc)"
      ]
    },
    {
      "cell_type": "code",
      "execution_count": null,
      "id": "71c68109",
      "metadata": {
        "id": "71c68109"
      },
      "outputs": [],
      "source": [
        "model_rf = make_pipeline(\n",
        "    OrdinalEncoder(),\n",
        "    RandomForestClassifier(n_jobs= -1)\n",
        ")\n",
        "\n",
        "model_rf.fit(X_train, y_train);"
      ]
    },
    {
      "cell_type": "code",
      "execution_count": null,
      "id": "1dc6c3b0",
      "metadata": {
        "id": "1dc6c3b0",
        "outputId": "02f8c84f-86a4-4237-eddd-4a5ad6c7e2d3"
      },
      "outputs": [
        {
          "name": "stdout",
          "output_type": "stream",
          "text": [
            "Training Accuracy Score: 99.98145056575774\n",
            "Validation Accuracy Score: 93.23383084577115\n"
          ]
        }
      ],
      "source": [
        "train_acc = model_rf.score(X_train, y_train)\n",
        "val_acc = model_rf.score(X_val, y_val)\n",
        "\n",
        "print('Training Accuracy Score:', train_acc * 100)\n",
        "print('Validation Accuracy Score:', val_acc * 100)"
      ]
    },
    {
      "cell_type": "code",
      "execution_count": null,
      "id": "98289d49",
      "metadata": {
        "id": "98289d49",
        "outputId": "0bf1e0bc-c688-49e4-bc76-5c3bb7bdc76a"
      },
      "outputs": [
        {
          "data": {
            "text/plain": [
              "Pipeline(steps=[('ordinalencoder',\n",
              "                 OrdinalEncoder(cols=['GEO Summary', 'GEO Region',\n",
              "                                      'Activity Type Code', 'Terminal',\n",
              "                                      'Boarding Area'],\n",
              "                                mapping=[{'col': 'GEO Summary',\n",
              "                                          'data_type': dtype('O'),\n",
              "                                          'mapping': Domestic    1\n",
              "NaN        -2\n",
              "dtype: int64},\n",
              "                                         {'col': 'GEO Region',\n",
              "                                          'data_type': dtype('O'),\n",
              "                                          'mapping': US     1\n",
              "NaN   -2\n",
              "dtype: int64},\n",
              "                                         {'col': 'Activity Type Code',\n",
              "                                          'data_type': dtype('O'),\n",
              "                                          'mapping': Dep...\n",
              "dtype: int64},\n",
              "                                         {'col': 'Terminal',\n",
              "                                          'data_type': dtype('O'),\n",
              "                                          'mapping': Terminal 1       1\n",
              "International    2\n",
              "Terminal 3       3\n",
              "Other            4\n",
              "Terminal 2       5\n",
              "NaN             -2\n",
              "dtype: int64},\n",
              "                                         {'col': 'Boarding Area',\n",
              "                                          'data_type': dtype('O'),\n",
              "                                          'mapping': B        1\n",
              "A        2\n",
              "E        3\n",
              "C        4\n",
              "F        5\n",
              "Other    6\n",
              "G        7\n",
              "D        8\n",
              "NaN     -2\n",
              "dtype: int64}])),\n",
              "                ('simpleimputer', SimpleImputer()),\n",
              "                ('gradientboostingclassifier',\n",
              "                 GradientBoostingClassifier(n_estimators=75, random_state=42))])"
            ]
          },
          "execution_count": 11,
          "metadata": {},
          "output_type": "execute_result"
        }
      ],
      "source": [
        "model_gb = make_pipeline(\n",
        "    OrdinalEncoder(),\n",
        "    SimpleImputer(strategy= 'mean'),\n",
        "    GradientBoostingClassifier(random_state= 42, n_estimators= 75)\n",
        ")\n",
        "\n",
        "model_gb.fit(X_train, y_train)"
      ]
    },
    {
      "cell_type": "code",
      "execution_count": null,
      "id": "2fd6a3f8",
      "metadata": {
        "id": "2fd6a3f8",
        "outputId": "2cfd1284-a704-44f3-bf85-e17556e67782"
      },
      "outputs": [
        {
          "name": "stderr",
          "output_type": "stream",
          "text": [
            "C:\\Users\\Student\\anaconda3\\lib\\site-packages\\xgboost\\sklearn.py:1224: UserWarning: The use of label encoder in XGBClassifier is deprecated and will be removed in a future release. To remove this warning, do the following: 1) Pass option use_label_encoder=False when constructing XGBClassifier object; and 2) Encode your labels (y) as integers starting with 0, i.e. 0, 1, 2, ..., [num_class - 1].\n",
            "  warnings.warn(label_encoder_deprecation_msg, UserWarning)\n"
          ]
        },
        {
          "name": "stdout",
          "output_type": "stream",
          "text": [
            "[11:30:24] WARNING: C:/Users/Administrator/workspace/xgboost-win64_release_1.5.1/src/learner.cc:576: \n",
            "Parameters: { \"n_estimator\" } might not be used.\n",
            "\n",
            "  This could be a false alarm, with some parameters getting used by language bindings but\n",
            "  then being mistakenly passed down to XGBoost core, or some parameter actually being used\n",
            "  but getting flagged wrongly here. Please open an issue if you find any such cases.\n",
            "\n",
            "\n",
            "[11:30:24] WARNING: C:/Users/Administrator/workspace/xgboost-win64_release_1.5.1/src/learner.cc:1115: Starting in XGBoost 1.3.0, the default evaluation metric used with the objective 'binary:logistic' was changed from 'error' to 'logloss'. Explicitly set eval_metric if you'd like to restore the old behavior.\n"
          ]
        },
        {
          "data": {
            "text/plain": [
              "Pipeline(steps=[('ordinalencoder',\n",
              "                 OrdinalEncoder(cols=['GEO Summary', 'GEO Region',\n",
              "                                      'Activity Type Code', 'Terminal',\n",
              "                                      'Boarding Area'],\n",
              "                                mapping=[{'col': 'GEO Summary',\n",
              "                                          'data_type': dtype('O'),\n",
              "                                          'mapping': Domestic    1\n",
              "NaN        -2\n",
              "dtype: int64},\n",
              "                                         {'col': 'GEO Region',\n",
              "                                          'data_type': dtype('O'),\n",
              "                                          'mapping': US     1\n",
              "NaN   -2\n",
              "dtype: int64},\n",
              "                                         {'col': 'Activity Type Code',\n",
              "                                          'data_type': dtype('O'),\n",
              "                                          'mapping': Dep...\n",
              "                               interaction_constraints='',\n",
              "                               learning_rate=0.300000012, max_delta_step=0,\n",
              "                               max_depth=6, min_child_weight=1, missing=nan,\n",
              "                               monotone_constraints='()', n_estimator=75,\n",
              "                               n_estimators=100, n_jobs=-1, num_parallel_tree=1,\n",
              "                               predictor='auto', random_state=42, reg_alpha=0,\n",
              "                               reg_lambda=1, scale_pos_weight=1, subsample=1,\n",
              "                               tree_method='exact', validate_parameters=1,\n",
              "                               verbosity=None))])"
            ]
          },
          "execution_count": 12,
          "metadata": {},
          "output_type": "execute_result"
        }
      ],
      "source": [
        "model_xgb = make_pipeline(\n",
        "    OrdinalEncoder(),\n",
        "    SimpleImputer(strategy= 'mean'),\n",
        "    XGBClassifier(random_state= 42, n_estimator= 75, n_jobs= -1)\n",
        ")\n",
        "\n",
        "model_xgb.fit(X_train, y_train)"
      ]
    },
    {
      "cell_type": "code",
      "execution_count": null,
      "id": "7330b135",
      "metadata": {
        "id": "7330b135",
        "outputId": "6383f236-6306-407e-ee8f-84e02498937d"
      },
      "outputs": [
        {
          "name": "stdout",
          "output_type": "stream",
          "text": [
            "Training Accuracy 0.8840660359859024\n",
            "Validation Accuracy 0.7840796019900498\n"
          ]
        }
      ],
      "source": [
        "print('Training Accuracy', model_gb.score(X_train, y_train))\n",
        "print('Validation Accuracy', model_gb.score(X_val, y_val))"
      ]
    },
    {
      "cell_type": "code",
      "execution_count": null,
      "id": "b7b48e5e",
      "metadata": {
        "id": "b7b48e5e",
        "outputId": "5f06218c-58fa-4bdc-d5e2-de25740dacc2"
      },
      "outputs": [
        {
          "name": "stdout",
          "output_type": "stream",
          "text": [
            "Training Accuracy 0.993322203672788\n",
            "Validation Accuracy 0.9273631840796019\n"
          ]
        }
      ],
      "source": [
        "print('Training Accuracy', model_xgb.score(X_train, y_train))\n",
        "print('Validation Accuracy', model_xgb.score(X_val, y_val))"
      ]
    },
    {
      "cell_type": "code",
      "execution_count": null,
      "id": "eba9daab",
      "metadata": {
        "id": "eba9daab",
        "outputId": "d3b27808-2d61-45ba-a7fe-1d7162fa7657"
      },
      "outputs": [
        {
          "data": {
            "text/plain": [
              "Text(0, 0.5, 'Feature')"
            ]
          },
          "execution_count": 15,
          "metadata": {},
          "output_type": "execute_result"
        },
        {
          "data": {
            "image/png": "[encoded data removed]",
            "text/plain": [
              "<Figure size 432x288 with 1 Axes>"
            ]
          },
          "metadata": {
            "needs_background": "light"
          },
          "output_type": "display_data"
        }
      ],
      "source": [
        "importances = model_xgb.named_steps['xgbclassifier'].feature_importances_\n",
        "feature_names = X_train.columns\n",
        "feat_imp = pd.Series(data= importances, index= feature_names).sort_values()\n",
        "feat_imp.tail(10).plot(kind= 'barh')\n",
        "plt.xlabel('Gini Importance')\n",
        "plt.ylabel('Feature')"
      ]
    },
    {
      "cell_type": "code",
      "execution_count": null,
      "id": "4e5cb233",
      "metadata": {
        "id": "4e5cb233",
        "outputId": "f0388740-59ae-4657-9ad6-bf1d4358e845"
      },
      "outputs": [
        {
          "name": "stderr",
          "output_type": "stream",
          "text": [
            "C:\\Users\\Student\\anaconda3\\lib\\site-packages\\xgboost\\sklearn.py:1224: UserWarning: The use of label encoder in XGBClassifier is deprecated and will be removed in a future release. To remove this warning, do the following: 1) Pass option use_label_encoder=False when constructing XGBClassifier object; and 2) Encode your labels (y) as integers starting with 0, i.e. 0, 1, 2, ..., [num_class - 1].\n",
            "  warnings.warn(label_encoder_deprecation_msg, UserWarning)\n"
          ]
        },
        {
          "name": "stdout",
          "output_type": "stream",
          "text": [
            "[11:44:12] WARNING: C:/Users/Administrator/workspace/xgboost-win64_release_1.5.1/src/learner.cc:576: \n",
            "Parameters: { \"n_estimator\" } might not be used.\n",
            "\n",
            "  This could be a false alarm, with some parameters getting used by language bindings but\n",
            "  then being mistakenly passed down to XGBoost core, or some parameter actually being used\n",
            "  but getting flagged wrongly here. Please open an issue if you find any such cases.\n",
            "\n",
            "\n",
            "[11:44:12] WARNING: C:/Users/Administrator/workspace/xgboost-win64_release_1.5.1/src/learner.cc:1115: Starting in XGBoost 1.3.0, the default evaluation metric used with the objective 'binary:logistic' was changed from 'error' to 'logloss'. Explicitly set eval_metric if you'd like to restore the old behavior.\n",
            "0.9273631840796019\n"
          ]
        }
      ],
      "source": [
        "col = 'Activity Type Code'\n",
        "\n",
        "model_w_col = make_pipeline(\n",
        "    OrdinalEncoder(),\n",
        "    SimpleImputer(strategy='mean'),\n",
        "    XGBClassifier(random_state=42,n_estimator=75, n_jobs=-1) #learning rate = 0.01, 0.1,0.2\n",
        ")\n",
        "\n",
        "model_w_col.fit(X_train, y_train)\n",
        "\n",
        "\n",
        "print(model_w_col.score(X_val,y_val))"
      ]
    },
    {
      "cell_type": "code",
      "execution_count": null,
      "id": "294e1566",
      "metadata": {
        "id": "294e1566",
        "outputId": "712766d8-8bc9-46ce-d351-2f6eee06cbb5"
      },
      "outputs": [
        {
          "name": "stderr",
          "output_type": "stream",
          "text": [
            "C:\\Users\\Student\\anaconda3\\lib\\site-packages\\xgboost\\sklearn.py:1224: UserWarning: The use of label encoder in XGBClassifier is deprecated and will be removed in a future release. To remove this warning, do the following: 1) Pass option use_label_encoder=False when constructing XGBClassifier object; and 2) Encode your labels (y) as integers starting with 0, i.e. 0, 1, 2, ..., [num_class - 1].\n",
            "  warnings.warn(label_encoder_deprecation_msg, UserWarning)\n"
          ]
        },
        {
          "name": "stdout",
          "output_type": "stream",
          "text": [
            "[11:44:21] WARNING: C:/Users/Administrator/workspace/xgboost-win64_release_1.5.1/src/learner.cc:576: \n",
            "Parameters: { \"n_estimator\" } might not be used.\n",
            "\n",
            "  This could be a false alarm, with some parameters getting used by language bindings but\n",
            "  then being mistakenly passed down to XGBoost core, or some parameter actually being used\n",
            "  but getting flagged wrongly here. Please open an issue if you find any such cases.\n",
            "\n",
            "\n",
            "[11:44:21] WARNING: C:/Users/Administrator/workspace/xgboost-win64_release_1.5.1/src/learner.cc:1115: Starting in XGBoost 1.3.0, the default evaluation metric used with the objective 'binary:logistic' was changed from 'error' to 'logloss'. Explicitly set eval_metric if you'd like to restore the old behavior.\n",
            "0.8935323383084577\n"
          ]
        }
      ],
      "source": [
        "model_wo_col = make_pipeline(\n",
        "    OrdinalEncoder(),\n",
        "    SimpleImputer(strategy='mean'),\n",
        "    XGBClassifier(random_state=42,n_estimator=75, n_jobs=-1) #learning rate = 0.01, 0.1,0.2\n",
        ")\n",
        "\n",
        "model_wo_col.fit(X_train.drop(columns=col), y_train)\n",
        "print(model_wo_col.score(X_val.drop(columns=col),y_val))"
      ]
    },
    {
      "cell_type": "code",
      "execution_count": null,
      "id": "0f93e3b3",
      "metadata": {
        "id": "0f93e3b3",
        "outputId": "86002779-9533-40eb-a9af-2dc8d8e41d47"
      },
      "outputs": [
        {
          "name": "stderr",
          "output_type": "stream",
          "text": [
            "C:\\Users\\Student\\anaconda3\\lib\\site-packages\\xgboost\\sklearn.py:1224: UserWarning: The use of label encoder in XGBClassifier is deprecated and will be removed in a future release. To remove this warning, do the following: 1) Pass option use_label_encoder=False when constructing XGBClassifier object; and 2) Encode your labels (y) as integers starting with 0, i.e. 0, 1, 2, ..., [num_class - 1].\n",
            "  warnings.warn(label_encoder_deprecation_msg, UserWarning)\n"
          ]
        },
        {
          "name": "stdout",
          "output_type": "stream",
          "text": [
            "[11:46:16] WARNING: C:/Users/Administrator/workspace/xgboost-win64_release_1.5.1/src/learner.cc:576: \n",
            "Parameters: { \"n_estimator\" } might not be used.\n",
            "\n",
            "  This could be a false alarm, with some parameters getting used by language bindings but\n",
            "  then being mistakenly passed down to XGBoost core, or some parameter actually being used\n",
            "  but getting flagged wrongly here. Please open an issue if you find any such cases.\n",
            "\n",
            "\n",
            "[11:46:16] WARNING: C:/Users/Administrator/workspace/xgboost-win64_release_1.5.1/src/learner.cc:1115: Starting in XGBoost 1.3.0, the default evaluation metric used with the objective 'binary:logistic' was changed from 'error' to 'logloss'. Explicitly set eval_metric if you'd like to restore the old behavior.\n"
          ]
        },
        {
          "data": {
            "text/plain": [
              "Pipeline(steps=[('ordinalencoder',\n",
              "                 OrdinalEncoder(cols=['GEO Summary', 'GEO Region',\n",
              "                                      'Activity Type Code', 'Terminal',\n",
              "                                      'Boarding Area'],\n",
              "                                mapping=[{'col': 'GEO Summary',\n",
              "                                          'data_type': dtype('O'),\n",
              "                                          'mapping': Domestic    1\n",
              "NaN        -2\n",
              "dtype: int64},\n",
              "                                         {'col': 'GEO Region',\n",
              "                                          'data_type': dtype('O'),\n",
              "                                          'mapping': US     1\n",
              "NaN   -2\n",
              "dtype: int64},\n",
              "                                         {'col': 'Activity Type Code',\n",
              "                                          'data_type': dtype('O'),\n",
              "                                          'mapping': Dep...\n",
              "                               interaction_constraints='',\n",
              "                               learning_rate=0.300000012, max_delta_step=0,\n",
              "                               max_depth=6, min_child_weight=1, missing=nan,\n",
              "                               monotone_constraints='()', n_estimator=75,\n",
              "                               n_estimators=100, n_jobs=-1, num_parallel_tree=1,\n",
              "                               predictor='auto', random_state=42, reg_alpha=0,\n",
              "                               reg_lambda=1, scale_pos_weight=1, subsample=1,\n",
              "                               tree_method='exact', validate_parameters=1,\n",
              "                               verbosity=None))])"
            ]
          },
          "execution_count": 18,
          "metadata": {},
          "output_type": "execute_result"
        }
      ],
      "source": [
        "model_perm = make_pipeline(\n",
        "    OrdinalEncoder(),\n",
        "    SimpleImputer(strategy= 'mean'),\n",
        "    XGBClassifier(random_state= 42, n_estimator= 75, n_jobs= -1) #learning rate = 0.01, 0.1,0.2\n",
        ")\n",
        "\n",
        "model_perm.fit(X_train, y_train)"
      ]
    },
    {
      "cell_type": "code",
      "execution_count": null,
      "id": "a680d9ea",
      "metadata": {
        "id": "a680d9ea",
        "outputId": "a7576afa-31e2-48ed-936e-6e41102b72c0"
      },
      "outputs": [
        {
          "data": {
            "text/plain": [
              "0.9273631840796019"
            ]
          },
          "execution_count": 19,
          "metadata": {},
          "output_type": "execute_result"
        }
      ],
      "source": [
        "model_perm.score(X_val, y_val)"
      ]
    },
    {
      "cell_type": "code",
      "execution_count": null,
      "id": "2ce74f49",
      "metadata": {
        "id": "2ce74f49"
      },
      "outputs": [],
      "source": [
        "X_val_perm = X_val.copy()\n",
        "X_val_perm[col] = np.random.permutation(X_val_perm[col])"
      ]
    },
    {
      "cell_type": "code",
      "execution_count": null,
      "id": "bd170fd8",
      "metadata": {
        "id": "bd170fd8",
        "outputId": "ddb22a60-bc73-4a76-f771-781a0df2b242"
      },
      "outputs": [
        {
          "data": {
            "text/plain": [
              "0.8920398009950249"
            ]
          },
          "execution_count": 21,
          "metadata": {},
          "output_type": "execute_result"
        }
      ],
      "source": [
        "model_perm.score(X_val_perm, y_val)"
      ]
    },
    {
      "cell_type": "code",
      "execution_count": null,
      "id": "149a3fd9",
      "metadata": {
        "id": "149a3fd9"
      },
      "outputs": [],
      "source": [
        "perm_imp = permutation_importance(model_perm, X_val, y_val, random_state= 42)"
      ]
    },
    {
      "cell_type": "code",
      "execution_count": null,
      "id": "b4edee3a",
      "metadata": {
        "id": "b4edee3a"
      },
      "outputs": [],
      "source": [
        "data_perm = {'imp_mean':perm_imp['importances_mean'],\n",
        "             'imp_std':perm_imp['importances_std']}\n",
        "\n",
        "\n",
        "df_perm = pd.DataFrame(data_perm, index= X_val.columns).sort_values('imp_mean')"
      ]
    },
    {
      "cell_type": "code",
      "execution_count": null,
      "id": "abf750b1",
      "metadata": {
        "id": "abf750b1",
        "outputId": "7ed291a0-5215-4399-cdda-9ea9da25331f"
      },
      "outputs": [
        {
          "data": {
            "text/html": [
              "<div>\n",
              "<style scoped>\n",
              "    .dataframe tbody tr th:only-of-type {\n",
              "        vertical-align: middle;\n",
              "    }\n",
              "\n",
              "    .dataframe tbody tr th {\n",
              "        vertical-align: top;\n",
              "    }\n",
              "\n",
              "    .dataframe thead th {\n",
              "        text-align: right;\n",
              "    }\n",
              "</style>\n",
              "<table border=\"1\" class=\"dataframe\">\n",
              "  <thead>\n",
              "    <tr style=\"text-align: right;\">\n",
              "      <th></th>\n",
              "      <th>imp_mean</th>\n",
              "      <th>imp_std</th>\n",
              "    </tr>\n",
              "  </thead>\n",
              "  <tbody>\n",
              "    <tr>\n",
              "      <th>GEO Summary</th>\n",
              "      <td>0.000000</td>\n",
              "      <td>0.000000</td>\n",
              "    </tr>\n",
              "    <tr>\n",
              "      <th>GEO Region</th>\n",
              "      <td>0.000000</td>\n",
              "      <td>0.000000</td>\n",
              "    </tr>\n",
              "    <tr>\n",
              "      <th>Year</th>\n",
              "      <td>0.000000</td>\n",
              "      <td>0.000000</td>\n",
              "    </tr>\n",
              "    <tr>\n",
              "      <th>Month</th>\n",
              "      <td>0.010448</td>\n",
              "      <td>0.005141</td>\n",
              "    </tr>\n",
              "    <tr>\n",
              "      <th>Activity Type Code</th>\n",
              "      <td>0.037612</td>\n",
              "      <td>0.000923</td>\n",
              "    </tr>\n",
              "    <tr>\n",
              "      <th>Terminal</th>\n",
              "      <td>0.132637</td>\n",
              "      <td>0.004229</td>\n",
              "    </tr>\n",
              "    <tr>\n",
              "      <th>Passenger Count</th>\n",
              "      <td>0.184179</td>\n",
              "      <td>0.007502</td>\n",
              "    </tr>\n",
              "    <tr>\n",
              "      <th>Boarding Area</th>\n",
              "      <td>0.241393</td>\n",
              "      <td>0.006097</td>\n",
              "    </tr>\n",
              "  </tbody>\n",
              "</table>\n",
              "</div>"
            ],
            "text/plain": [
              "                    imp_mean   imp_std\n",
              "GEO Summary         0.000000  0.000000\n",
              "GEO Region          0.000000  0.000000\n",
              "Year                0.000000  0.000000\n",
              "Month               0.010448  0.005141\n",
              "Activity Type Code  0.037612  0.000923\n",
              "Terminal            0.132637  0.004229\n",
              "Passenger Count     0.184179  0.007502\n",
              "Boarding Area       0.241393  0.006097"
            ]
          },
          "execution_count": 24,
          "metadata": {},
          "output_type": "execute_result"
        }
      ],
      "source": [
        "df_perm"
      ]
    },
    {
      "cell_type": "code",
      "execution_count": null,
      "id": "802aa1b5",
      "metadata": {
        "id": "802aa1b5"
      },
      "outputs": [],
      "source": [
        ""
      ]
    }
  ],
  "metadata": {
    "kernelspec": {
      "display_name": "Python 3",
      "language": "python",
      "name": "python3"
    },
    "language_info": {
      "codemirror_mode": {
        "name": "ipython",
        "version": 3
      },
      "file_extension": ".py",
      "mimetype": "text/x-python",
      "name": "python",
      "nbconvert_exporter": "python",
      "pygments_lexer": "ipython3",
      "version": "3.8.8"
    },
    "colab": {
      "name": "SF_Airport_US.ipynb",
      "provenance": [],
      "include_colab_link": true
    }
  },
  "nbformat": 4,
  "nbformat_minor": 5
}